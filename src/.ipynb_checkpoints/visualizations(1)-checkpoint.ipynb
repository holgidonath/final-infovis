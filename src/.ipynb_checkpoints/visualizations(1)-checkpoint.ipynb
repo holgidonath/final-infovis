{
 "cells": [
  {
   "cell_type": "code",
   "execution_count": 259,
   "metadata": {
    "id": "JK92FgvXFMpc"
   },
   "outputs": [],
   "source": [
    "import altair as alt\n",
    "import pandas as pd\n",
    "import requests \n",
    "import vega_datasets\n",
    "from vega_datasets import data\n",
    "import matplotlib.pyplot as plt\n",
    "import squarify\n",
    "import matplotlib as mat\n",
    "import mplcursors\n",
    "\n"
   ]
  },
  {
   "cell_type": "code",
   "execution_count": 51,
   "metadata": {
    "colab": {
     "base_uri": "https://localhost:8080/",
     "height": 363
    },
    "id": "4hjfTPtpGAMK",
    "outputId": "8970746f-546c-4cb6-e81f-19e1b1253c1b"
   },
   "outputs": [
    {
     "data": {
      "text/html": [
       "<div>\n",
       "<style scoped>\n",
       "    .dataframe tbody tr th:only-of-type {\n",
       "        vertical-align: middle;\n",
       "    }\n",
       "\n",
       "    .dataframe tbody tr th {\n",
       "        vertical-align: top;\n",
       "    }\n",
       "\n",
       "    .dataframe thead th {\n",
       "        text-align: right;\n",
       "    }\n",
       "</style>\n",
       "<table border=\"1\" class=\"dataframe\">\n",
       "  <thead>\n",
       "    <tr style=\"text-align: right;\">\n",
       "      <th></th>\n",
       "      <th>jurisdiccion_codigo_indec</th>\n",
       "      <th>jurisdiccion_nombre</th>\n",
       "      <th>vacuna_nombre</th>\n",
       "      <th>primera_dosis_cantidad</th>\n",
       "      <th>segunda_dosis_cantidad</th>\n",
       "    </tr>\n",
       "  </thead>\n",
       "  <tbody>\n",
       "    <tr>\n",
       "      <th>0</th>\n",
       "      <td>6</td>\n",
       "      <td>Buenos Aires</td>\n",
       "      <td>AstraZeneca ChAdOx1 S recombinante</td>\n",
       "      <td>3109159</td>\n",
       "      <td>634297</td>\n",
       "    </tr>\n",
       "    <tr>\n",
       "      <th>1</th>\n",
       "      <td>6</td>\n",
       "      <td>Buenos Aires</td>\n",
       "      <td>COVISHIELD ChAdOx1nCoV COVID 19</td>\n",
       "      <td>250626</td>\n",
       "      <td>308</td>\n",
       "    </tr>\n",
       "    <tr>\n",
       "      <th>2</th>\n",
       "      <td>6</td>\n",
       "      <td>Buenos Aires</td>\n",
       "      <td>Sinopharm Vacuna SARSCOV 2 inactivada</td>\n",
       "      <td>1815657</td>\n",
       "      <td>670877</td>\n",
       "    </tr>\n",
       "    <tr>\n",
       "      <th>3</th>\n",
       "      <td>6</td>\n",
       "      <td>Buenos Aires</td>\n",
       "      <td>Sputnik V COVID19 Instituto Gamaleya</td>\n",
       "      <td>3490775</td>\n",
       "      <td>681473</td>\n",
       "    </tr>\n",
       "    <tr>\n",
       "      <th>4</th>\n",
       "      <td>2</td>\n",
       "      <td>CABA</td>\n",
       "      <td>AstraZeneca ChAdOx1 S recombinante</td>\n",
       "      <td>627784</td>\n",
       "      <td>139279</td>\n",
       "    </tr>\n",
       "    <tr>\n",
       "      <th>5</th>\n",
       "      <td>2</td>\n",
       "      <td>CABA</td>\n",
       "      <td>COVISHIELD ChAdOx1nCoV COVID 19</td>\n",
       "      <td>65350</td>\n",
       "      <td>186</td>\n",
       "    </tr>\n",
       "    <tr>\n",
       "      <th>6</th>\n",
       "      <td>2</td>\n",
       "      <td>CABA</td>\n",
       "      <td>Sinopharm Vacuna SARSCOV 2 inactivada</td>\n",
       "      <td>363005</td>\n",
       "      <td>202217</td>\n",
       "    </tr>\n",
       "    <tr>\n",
       "      <th>7</th>\n",
       "      <td>2</td>\n",
       "      <td>CABA</td>\n",
       "      <td>Sputnik V COVID19 Instituto Gamaleya</td>\n",
       "      <td>742653</td>\n",
       "      <td>194757</td>\n",
       "    </tr>\n",
       "    <tr>\n",
       "      <th>8</th>\n",
       "      <td>10</td>\n",
       "      <td>Catamarca</td>\n",
       "      <td>AstraZeneca ChAdOx1 S recombinante</td>\n",
       "      <td>66825</td>\n",
       "      <td>12056</td>\n",
       "    </tr>\n",
       "    <tr>\n",
       "      <th>9</th>\n",
       "      <td>10</td>\n",
       "      <td>Catamarca</td>\n",
       "      <td>COVISHIELD ChAdOx1nCoV COVID 19</td>\n",
       "      <td>4549</td>\n",
       "      <td>1</td>\n",
       "    </tr>\n",
       "  </tbody>\n",
       "</table>\n",
       "</div>"
      ],
      "text/plain": [
       "   jurisdiccion_codigo_indec jurisdiccion_nombre  \\\n",
       "0                          6        Buenos Aires   \n",
       "1                          6        Buenos Aires   \n",
       "2                          6        Buenos Aires   \n",
       "3                          6        Buenos Aires   \n",
       "4                          2                CABA   \n",
       "5                          2                CABA   \n",
       "6                          2                CABA   \n",
       "7                          2                CABA   \n",
       "8                         10           Catamarca   \n",
       "9                         10           Catamarca   \n",
       "\n",
       "                           vacuna_nombre  primera_dosis_cantidad  \\\n",
       "0     AstraZeneca ChAdOx1 S recombinante                 3109159   \n",
       "1        COVISHIELD ChAdOx1nCoV COVID 19                  250626   \n",
       "2  Sinopharm Vacuna SARSCOV 2 inactivada                 1815657   \n",
       "3   Sputnik V COVID19 Instituto Gamaleya                 3490775   \n",
       "4     AstraZeneca ChAdOx1 S recombinante                  627784   \n",
       "5        COVISHIELD ChAdOx1nCoV COVID 19                   65350   \n",
       "6  Sinopharm Vacuna SARSCOV 2 inactivada                  363005   \n",
       "7   Sputnik V COVID19 Instituto Gamaleya                  742653   \n",
       "8     AstraZeneca ChAdOx1 S recombinante                   66825   \n",
       "9        COVISHIELD ChAdOx1nCoV COVID 19                    4549   \n",
       "\n",
       "   segunda_dosis_cantidad  \n",
       "0                  634297  \n",
       "1                     308  \n",
       "2                  670877  \n",
       "3                  681473  \n",
       "4                  139279  \n",
       "5                     186  \n",
       "6                  202217  \n",
       "7                  194757  \n",
       "8                   12056  \n",
       "9                       1  "
      ]
     },
     "execution_count": 51,
     "metadata": {
      "tags": []
     },
     "output_type": "execute_result"
    }
   ],
   "source": [
    "\n",
    "rqst = requests.get(\"http://localhost:8000/datos/\")\n",
    "\n",
    "data = rqst.json()\n",
    "\n",
    "df = pd.DataFrame(data)\n",
    "df.head(10)"
   ]
  },
  {
   "cell_type": "code",
   "execution_count": 150,
   "metadata": {
    "colab": {
     "base_uri": "https://localhost:8080/",
     "height": 175
    },
    "id": "EOh3gABFJOLq",
    "outputId": "760379d5-9f90-4837-9cad-46597e0e38a4"
   },
   "outputs": [
    {
     "data": {
      "text/html": [
       "<div>\n",
       "<style scoped>\n",
       "    .dataframe tbody tr th:only-of-type {\n",
       "        vertical-align: middle;\n",
       "    }\n",
       "\n",
       "    .dataframe tbody tr th {\n",
       "        vertical-align: top;\n",
       "    }\n",
       "\n",
       "    .dataframe thead th {\n",
       "        text-align: right;\n",
       "    }\n",
       "</style>\n",
       "<table border=\"1\" class=\"dataframe\">\n",
       "  <thead>\n",
       "    <tr style=\"text-align: right;\">\n",
       "      <th></th>\n",
       "      <th>vacuna_nombre</th>\n",
       "      <th>total_dosis</th>\n",
       "    </tr>\n",
       "  </thead>\n",
       "  <tbody>\n",
       "    <tr>\n",
       "      <th>0</th>\n",
       "      <td>Sputnik V COVID19 Instituto Gamaleya</td>\n",
       "      <td>10827643</td>\n",
       "    </tr>\n",
       "    <tr>\n",
       "      <th>1</th>\n",
       "      <td>AstraZeneca ChAdOx1 S recombinante</td>\n",
       "      <td>9480927</td>\n",
       "    </tr>\n",
       "    <tr>\n",
       "      <th>2</th>\n",
       "      <td>Sinopharm Vacuna SARSCOV 2 inactivada</td>\n",
       "      <td>6865120</td>\n",
       "    </tr>\n",
       "    <tr>\n",
       "      <th>3</th>\n",
       "      <td>COVISHIELD ChAdOx1nCoV COVID 19</td>\n",
       "      <td>651538</td>\n",
       "    </tr>\n",
       "  </tbody>\n",
       "</table>\n",
       "</div>"
      ],
      "text/plain": [
       "                           vacuna_nombre  total_dosis\n",
       "0   Sputnik V COVID19 Instituto Gamaleya     10827643\n",
       "1     AstraZeneca ChAdOx1 S recombinante      9480927\n",
       "2  Sinopharm Vacuna SARSCOV 2 inactivada      6865120\n",
       "3        COVISHIELD ChAdOx1nCoV COVID 19       651538"
      ]
     },
     "execution_count": 150,
     "metadata": {
      "tags": []
     },
     "output_type": "execute_result"
    }
   ],
   "source": [
    "rqst = requests.get(\"http://localhost:8000/datos/vacunanombre/alldosis\")\n",
    "data = rqst.json()\n",
    "df = pd.DataFrame(data)\n",
    "df"
   ]
  },
  {
   "cell_type": "code",
   "execution_count": 248,
   "metadata": {
    "colab": {
     "base_uri": "https://localhost:8080/",
     "height": 473
    },
    "id": "gQ7y0jhhgIX3",
    "outputId": "be2ef8ba-d1f5-4b14-91a4-3426826270e0"
   },
   "outputs": [
    {
     "data": {
      "text/html": [
       "\n",
       "<div id=\"altair-viz-9169ea70c2034d4b8b46c6bb13a42e78\"></div>\n",
       "<script type=\"text/javascript\">\n",
       "  (function(spec, embedOpt){\n",
       "    let outputDiv = document.currentScript.previousElementSibling;\n",
       "    if (outputDiv.id !== \"altair-viz-9169ea70c2034d4b8b46c6bb13a42e78\") {\n",
       "      outputDiv = document.getElementById(\"altair-viz-9169ea70c2034d4b8b46c6bb13a42e78\");\n",
       "    }\n",
       "    const paths = {\n",
       "      \"vega\": \"https://cdn.jsdelivr.net/npm//vega@5?noext\",\n",
       "      \"vega-lib\": \"https://cdn.jsdelivr.net/npm//vega-lib?noext\",\n",
       "      \"vega-lite\": \"https://cdn.jsdelivr.net/npm//vega-lite@4.8.1?noext\",\n",
       "      \"vega-embed\": \"https://cdn.jsdelivr.net/npm//vega-embed@6?noext\",\n",
       "    };\n",
       "\n",
       "    function loadScript(lib) {\n",
       "      return new Promise(function(resolve, reject) {\n",
       "        var s = document.createElement('script');\n",
       "        s.src = paths[lib];\n",
       "        s.async = true;\n",
       "        s.onload = () => resolve(paths[lib]);\n",
       "        s.onerror = () => reject(`Error loading script: ${paths[lib]}`);\n",
       "        document.getElementsByTagName(\"head\")[0].appendChild(s);\n",
       "      });\n",
       "    }\n",
       "\n",
       "    function showError(err) {\n",
       "      outputDiv.innerHTML = `<div class=\"error\" style=\"color:red;\">${err}</div>`;\n",
       "      throw err;\n",
       "    }\n",
       "\n",
       "    function displayChart(vegaEmbed) {\n",
       "      vegaEmbed(outputDiv, spec, embedOpt)\n",
       "        .catch(err => showError(`Javascript Error: ${err.message}<br>This usually means there's a typo in your chart specification. See the javascript console for the full traceback.`));\n",
       "    }\n",
       "\n",
       "    if(typeof define === \"function\" && define.amd) {\n",
       "      requirejs.config({paths});\n",
       "      require([\"vega-embed\"], displayChart, err => showError(`Error loading script: ${err.message}`));\n",
       "    } else if (typeof vegaEmbed === \"function\") {\n",
       "      displayChart(vegaEmbed);\n",
       "    } else {\n",
       "      loadScript(\"vega\")\n",
       "        .then(() => loadScript(\"vega-lite\"))\n",
       "        .then(() => loadScript(\"vega-embed\"))\n",
       "        .catch(showError)\n",
       "        .then(() => displayChart(vegaEmbed));\n",
       "    }\n",
       "  })({\"config\": {\"view\": {\"continuousWidth\": 400, \"continuousHeight\": 300}, \"axis\": {\"labelFontSize\": 15, \"titleFontSize\": 15}}, \"data\": {\"name\": \"data-85eeac904611eb22d7f6a1944b2c67c0\"}, \"mark\": \"bar\", \"encoding\": {\"tooltip\": [{\"type\": \"quantitative\", \"field\": \"total_dosis\", \"title\": \"Dosis Totales\"}], \"x\": {\"type\": \"quantitative\", \"field\": \"total_dosis\", \"title\": \"Dosis Totales\"}, \"y\": {\"type\": \"nominal\", \"field\": \"vacuna_nombre\", \"sort\": \"-x\", \"title\": \"Vacuna\"}}, \"height\": 400, \"width\": 1200, \"$schema\": \"https://vega.github.io/schema/vega-lite/v4.8.1.json\", \"datasets\": {\"data-85eeac904611eb22d7f6a1944b2c67c0\": [{\"vacuna_nombre\": \"Sputnik V COVID19 Instituto Gamaleya\", \"total_dosis\": 10827643}, {\"vacuna_nombre\": \"AstraZeneca ChAdOx1 S recombinante\", \"total_dosis\": 9480927}, {\"vacuna_nombre\": \"Sinopharm Vacuna SARSCOV 2 inactivada\", \"total_dosis\": 6865120}, {\"vacuna_nombre\": \"COVISHIELD ChAdOx1nCoV COVID 19\", \"total_dosis\": 651538}]}}, {\"mode\": \"vega-lite\"});\n",
       "</script>"
      ],
      "text/plain": [
       "alt.Chart(...)"
      ]
     },
     "execution_count": 248,
     "metadata": {
      "tags": []
     },
     "output_type": "execute_result"
    }
   ],
   "source": [
    "rqst = requests.get(\"http://localhost:8000/datos/vacunanombre/alldosis\")\n",
    "data = rqst.json()\n",
    "df = pd.DataFrame(data)\n",
    "\n",
    "alt.Chart(df).mark_bar().encode(\n",
    "    x=alt.X('total_dosis',title='Dosis Totales'),\n",
    "    y=alt.Y('vacuna_nombre:N', sort='-x',title='Vacuna'),\n",
    "    tooltip=[alt.Tooltip('total_dosis', title='Dosis Totales')]\n",
    ").properties(\n",
    "    width=1200,\n",
    "    height=400\n",
    ").configure_axis(\n",
    "    labelFontSize=15,\n",
    "    titleFontSize=15\n",
    ")\n",
    "\n",
    "\n"
   ]
  },
  {
   "cell_type": "code",
   "execution_count": null,
   "metadata": {
    "id": "yD9PdEM7JldS"
   },
   "outputs": [],
   "source": [
    ""
   ]
  },
  {
   "cell_type": "code",
   "execution_count": 177,
   "metadata": {
    "colab": {
     "base_uri": "https://localhost:8080/",
     "height": 264
    },
    "id": "Hh4mZwgi52Ic",
    "outputId": "be8c79a6-1d60-4bad-ed7f-ce38dc8dac27"
   },
   "outputs": [
    {
     "data": {
      "image/png": "[encoded data removed]",
      "text/plain": [
       "<Figure size 432x288 with 1 Axes>"
      ]
     },
     "metadata": {
      "tags": []
     },
     "output_type": "display_data"
    }
   ],
   "source": [
    "rqst = requests.get(\"http://localhost:8000/datos/dosis\")\n",
    "data = rqst.json()\n",
    "df = pd.DataFrame(data)\n",
    "\n",
    "\n",
    "\n",
    "number = ['Primera Dosis', 'Segunda Dosis']\n",
    "dosis = df['dosis'].to_list()\n",
    "\n",
    "plt.pie(dosis, labels=number,\n",
    "        shadow=True,\n",
    "        autopct='%1.1f%%',\n",
    "        wedgeprops={'edgecolor': 'black'})\n",
    "\n",
    "plt.title(\"Distribución de dosis\")\n",
    "plt.show()\n",
    "\n"
   ]
  },
  {
   "cell_type": "code",
   "execution_count": 109,
   "metadata": {
    "id": "l15-3ldurqrT"
   },
   "outputs": [],
   "source": [
    ""
   ]
  },
  {
   "cell_type": "code",
   "execution_count": 242,
   "metadata": {
    "colab": {
     "base_uri": "https://localhost:8080/",
     "height": 797
    },
    "id": "ZXySAIeYu9hb",
    "outputId": "d74a35f7-402d-4161-c75a-215d9f832c74"
   },
   "outputs": [
    {
     "data": {
      "text/html": [
       "\n",
       "<div id=\"altair-viz-5acdca81f52f4ac396c5227421a6570d\"></div>\n",
       "<script type=\"text/javascript\">\n",
       "  (function(spec, embedOpt){\n",
       "    let outputDiv = document.currentScript.previousElementSibling;\n",
       "    if (outputDiv.id !== \"altair-viz-5acdca81f52f4ac396c5227421a6570d\") {\n",
       "      outputDiv = document.getElementById(\"altair-viz-5acdca81f52f4ac396c5227421a6570d\");\n",
       "    }\n",
       "    const paths = {\n",
       "      \"vega\": \"https://cdn.jsdelivr.net/npm//vega@5?noext\",\n",
       "      \"vega-lib\": \"https://cdn.jsdelivr.net/npm//vega-lib?noext\",\n",
       "      \"vega-lite\": \"https://cdn.jsdelivr.net/npm//vega-lite@4.8.1?noext\",\n",
       "      \"vega-embed\": \"https://cdn.jsdelivr.net/npm//vega-embed@6?noext\",\n",
       "    };\n",
       "\n",
       "    function loadScript(lib) {\n",
       "      return new Promise(function(resolve, reject) {\n",
       "        var s = document.createElement('script');\n",
       "        s.src = paths[lib];\n",
       "        s.async = true;\n",
       "        s.onload = () => resolve(paths[lib]);\n",
       "        s.onerror = () => reject(`Error loading script: ${paths[lib]}`);\n",
       "        document.getElementsByTagName(\"head\")[0].appendChild(s);\n",
       "      });\n",
       "    }\n",
       "\n",
       "    function showError(err) {\n",
       "      outputDiv.innerHTML = `<div class=\"error\" style=\"color:red;\">${err}</div>`;\n",
       "      throw err;\n",
       "    }\n",
       "\n",
       "    function displayChart(vegaEmbed) {\n",
       "      vegaEmbed(outputDiv, spec, embedOpt)\n",
       "        .catch(err => showError(`Javascript Error: ${err.message}<br>This usually means there's a typo in your chart specification. See the javascript console for the full traceback.`));\n",
       "    }\n",
       "\n",
       "    if(typeof define === \"function\" && define.amd) {\n",
       "      requirejs.config({paths});\n",
       "      require([\"vega-embed\"], displayChart, err => showError(`Error loading script: ${err.message}`));\n",
       "    } else if (typeof vegaEmbed === \"function\") {\n",
       "      displayChart(vegaEmbed);\n",
       "    } else {\n",
       "      loadScript(\"vega\")\n",
       "        .then(() => loadScript(\"vega-lite\"))\n",
       "        .then(() => loadScript(\"vega-embed\"))\n",
       "        .catch(showError)\n",
       "        .then(() => displayChart(vegaEmbed));\n",
       "    }\n",
       "  })({\"config\": {\"view\": {\"continuousWidth\": 400, \"continuousHeight\": 300}, \"axis\": {\"labelFontSize\": 12, \"titleFontSize\": 12}}, \"data\": {\"name\": \"data-632b532d13ca3b3a7765e765ba59f60d\"}, \"mark\": \"bar\", \"encoding\": {\"color\": {\"type\": \"nominal\", \"field\": \"tipo_de_dosis\", \"title\": \"Numero de dosis\"}, \"row\": {\"type\": \"nominal\", \"field\": \"jurisdiccion_nombre\", \"title\": \"Provincia\"}, \"tooltip\": [{\"type\": \"quantitative\", \"aggregate\": \"sum\", \"field\": \"dosis\", \"title\": \"Dosis\"}], \"x\": {\"type\": \"quantitative\", \"aggregate\": \"sum\", \"field\": \"dosis\", \"title\": \"Cantidad de dosis\"}, \"y\": {\"type\": \"ordinal\", \"field\": \"tipo_de_dosis\", \"title\": \"\"}}, \"height\": 100, \"width\": 1500, \"$schema\": \"https://vega.github.io/schema/vega-lite/v4.8.1.json\", \"datasets\": {\"data-632b532d13ca3b3a7765e765ba59f60d\": [{\"jurisdiccion_nombre\": \"Buenos Aires\", \"dosis\": 8666217, \"tipo_de_dosis\": \"Primera Dosis\"}, {\"jurisdiccion_nombre\": \"CABA\", \"dosis\": 1798792, \"tipo_de_dosis\": \"Primera Dosis\"}, {\"jurisdiccion_nombre\": \"Santa Fe\", \"dosis\": 1821670, \"tipo_de_dosis\": \"Primera Dosis\"}, {\"jurisdiccion_nombre\": \"Mendoza\", \"dosis\": 960138, \"tipo_de_dosis\": \"Primera Dosis\"}, {\"jurisdiccion_nombre\": \"Tucum\\u00e1n\", \"dosis\": 817415, \"tipo_de_dosis\": \"Primera Dosis\"}, {\"jurisdiccion_nombre\": \"C\\u00f3rdoba\", \"dosis\": 1904845, \"tipo_de_dosis\": \"Primera Dosis\"}, {\"jurisdiccion_nombre\": \"Tucum\\u00e1n\", \"dosis\": 209322, \"tipo_de_dosis\": \"Segunda Dosis\"}, {\"jurisdiccion_nombre\": \"CABA\", \"dosis\": 536439, \"tipo_de_dosis\": \"Segunda Dosis\"}, {\"jurisdiccion_nombre\": \"C\\u00f3rdoba\", \"dosis\": 439764, \"tipo_de_dosis\": \"Segunda Dosis\"}, {\"jurisdiccion_nombre\": \"Santa Fe\", \"dosis\": 405642, \"tipo_de_dosis\": \"Segunda Dosis\"}, {\"jurisdiccion_nombre\": \"Mendoza\", \"dosis\": 217045, \"tipo_de_dosis\": \"Segunda Dosis\"}, {\"jurisdiccion_nombre\": \"Buenos Aires\", \"dosis\": 1986955, \"tipo_de_dosis\": \"Segunda Dosis\"}]}}, {\"mode\": \"vega-lite\"});\n",
       "</script>"
      ],
      "text/plain": [
       "alt.Chart(...)"
      ]
     },
     "execution_count": 242,
     "metadata": {
      "tags": []
     },
     "output_type": "execute_result"
    }
   ],
   "source": [
    "rqst = requests.get(\"http://localhost:8000/datos/provincias/alldosisseperated/top6\")\n",
    "data = rqst.json()\n",
    "df = pd.DataFrame(data)\n",
    "\n",
    "alt.Chart(df).mark_bar().encode(\n",
    "    x=alt.X('sum(dosis):Q',title='Cantidad de dosis'),\n",
    "    y=alt.Y('tipo_de_dosis:O',title = ''),\n",
    "    color=alt.Color('tipo_de_dosis:N',title='Numero de dosis'),\n",
    "    row=alt.Row('jurisdiccion_nombre:N',title='Provincia'),\n",
    "    tooltip=[alt.Tooltip('sum(dosis)', title='Dosis')]\n",
    ").properties(\n",
    "    width=1500,\n",
    "    height=100\n",
    ").configure_axis(\n",
    "    labelFontSize=12,\n",
    "    titleFontSize=12\n",
    ")\n",
    "\n",
    "\n"
   ]
  },
  {
   "cell_type": "code",
   "execution_count": 245,
   "metadata": {
    "colab": {
     "base_uri": "https://localhost:8080/",
     "height": 893
    },
    "id": "HWNw1cprbF1z",
    "outputId": "9823b7ac-07af-415c-c3b5-0394e9e59450"
   },
   "outputs": [
    {
     "data": {
      "text/html": [
       "\n",
       "<div id=\"altair-viz-48d961b9998a4caab4b5abc1bd73a07e\"></div>\n",
       "<script type=\"text/javascript\">\n",
       "  (function(spec, embedOpt){\n",
       "    let outputDiv = document.currentScript.previousElementSibling;\n",
       "    if (outputDiv.id !== \"altair-viz-48d961b9998a4caab4b5abc1bd73a07e\") {\n",
       "      outputDiv = document.getElementById(\"altair-viz-48d961b9998a4caab4b5abc1bd73a07e\");\n",
       "    }\n",
       "    const paths = {\n",
       "      \"vega\": \"https://cdn.jsdelivr.net/npm//vega@5?noext\",\n",
       "      \"vega-lib\": \"https://cdn.jsdelivr.net/npm//vega-lib?noext\",\n",
       "      \"vega-lite\": \"https://cdn.jsdelivr.net/npm//vega-lite@4.8.1?noext\",\n",
       "      \"vega-embed\": \"https://cdn.jsdelivr.net/npm//vega-embed@6?noext\",\n",
       "    };\n",
       "\n",
       "    function loadScript(lib) {\n",
       "      return new Promise(function(resolve, reject) {\n",
       "        var s = document.createElement('script');\n",
       "        s.src = paths[lib];\n",
       "        s.async = true;\n",
       "        s.onload = () => resolve(paths[lib]);\n",
       "        s.onerror = () => reject(`Error loading script: ${paths[lib]}`);\n",
       "        document.getElementsByTagName(\"head\")[0].appendChild(s);\n",
       "      });\n",
       "    }\n",
       "\n",
       "    function showError(err) {\n",
       "      outputDiv.innerHTML = `<div class=\"error\" style=\"color:red;\">${err}</div>`;\n",
       "      throw err;\n",
       "    }\n",
       "\n",
       "    function displayChart(vegaEmbed) {\n",
       "      vegaEmbed(outputDiv, spec, embedOpt)\n",
       "        .catch(err => showError(`Javascript Error: ${err.message}<br>This usually means there's a typo in your chart specification. See the javascript console for the full traceback.`));\n",
       "    }\n",
       "\n",
       "    if(typeof define === \"function\" && define.amd) {\n",
       "      requirejs.config({paths});\n",
       "      require([\"vega-embed\"], displayChart, err => showError(`Error loading script: ${err.message}`));\n",
       "    } else if (typeof vegaEmbed === \"function\") {\n",
       "      displayChart(vegaEmbed);\n",
       "    } else {\n",
       "      loadScript(\"vega\")\n",
       "        .then(() => loadScript(\"vega-lite\"))\n",
       "        .then(() => loadScript(\"vega-embed\"))\n",
       "        .catch(showError)\n",
       "        .then(() => displayChart(vegaEmbed));\n",
       "    }\n",
       "  })({\"config\": {\"view\": {\"continuousWidth\": 400, \"continuousHeight\": 300}, \"axis\": {\"labelFontSize\": 15, \"titleFontSize\": 15}}, \"data\": {\"name\": \"data-58e8f594dcda904d3907a3656a249e8a\"}, \"mark\": \"bar\", \"encoding\": {\"color\": {\"type\": \"nominal\", \"field\": \"vacuna_nombre\", \"title\": \"Vacuna\"}, \"tooltip\": [{\"type\": \"nominal\", \"field\": \"vacuna_nombre\", \"title\": \"Vacuna\"}, {\"type\": \"quantitative\", \"aggregate\": \"sum\", \"field\": \"total_dosis\", \"title\": \"Dosis Totales\"}], \"x\": {\"type\": \"quantitative\", \"aggregate\": \"sum\", \"field\": \"total_dosis\", \"title\": \"Dosis Totales\"}, \"y\": {\"type\": \"nominal\", \"field\": \"jurisdiccion_nombre\", \"title\": \"Provincia\"}}, \"height\": 800, \"width\": 1400, \"$schema\": \"https://vega.github.io/schema/vega-lite/v4.8.1.json\", \"datasets\": {\"data-58e8f594dcda904d3907a3656a249e8a\": [{\"jurisdiccion_nombre\": \"Buenos Aires\", \"vacuna_nombre\": \"Sinopharm Vacuna SARSCOV 2 inactivada\", \"total_dosis\": 2486534}, {\"jurisdiccion_nombre\": \"Buenos Aires\", \"vacuna_nombre\": \"AstraZeneca ChAdOx1 S recombinante\", \"total_dosis\": 3743456}, {\"jurisdiccion_nombre\": \"Buenos Aires\", \"vacuna_nombre\": \"Sputnik V COVID19 Instituto Gamaleya\", \"total_dosis\": 4172248}, {\"jurisdiccion_nombre\": \"Buenos Aires\", \"vacuna_nombre\": \"COVISHIELD ChAdOx1nCoV COVID 19\", \"total_dosis\": 250934}, {\"jurisdiccion_nombre\": \"CABA\", \"vacuna_nombre\": \"Sinopharm Vacuna SARSCOV 2 inactivada\", \"total_dosis\": 565222}, {\"jurisdiccion_nombre\": \"CABA\", \"vacuna_nombre\": \"COVISHIELD ChAdOx1nCoV COVID 19\", \"total_dosis\": 65536}, {\"jurisdiccion_nombre\": \"CABA\", \"vacuna_nombre\": \"Sputnik V COVID19 Instituto Gamaleya\", \"total_dosis\": 937410}, {\"jurisdiccion_nombre\": \"CABA\", \"vacuna_nombre\": \"AstraZeneca ChAdOx1 S recombinante\", \"total_dosis\": 767063}, {\"jurisdiccion_nombre\": \"Catamarca\", \"vacuna_nombre\": \"Sinopharm Vacuna SARSCOV 2 inactivada\", \"total_dosis\": 65704}, {\"jurisdiccion_nombre\": \"Catamarca\", \"vacuna_nombre\": \"COVISHIELD ChAdOx1nCoV COVID 19\", \"total_dosis\": 4550}, {\"jurisdiccion_nombre\": \"Catamarca\", \"vacuna_nombre\": \"AstraZeneca ChAdOx1 S recombinante\", \"total_dosis\": 78881}, {\"jurisdiccion_nombre\": \"Catamarca\", \"vacuna_nombre\": \"Sputnik V COVID19 Instituto Gamaleya\", \"total_dosis\": 97210}, {\"jurisdiccion_nombre\": \"Chaco\", \"vacuna_nombre\": \"AstraZeneca ChAdOx1 S recombinante\", \"total_dosis\": 225344}, {\"jurisdiccion_nombre\": \"Chaco\", \"vacuna_nombre\": \"Sputnik V COVID19 Instituto Gamaleya\", \"total_dosis\": 250149}, {\"jurisdiccion_nombre\": \"Chaco\", \"vacuna_nombre\": \"Sinopharm Vacuna SARSCOV 2 inactivada\", \"total_dosis\": 159300}, {\"jurisdiccion_nombre\": \"Chaco\", \"vacuna_nombre\": \"COVISHIELD ChAdOx1nCoV COVID 19\", \"total_dosis\": 15828}, {\"jurisdiccion_nombre\": \"Chubut\", \"vacuna_nombre\": \"AstraZeneca ChAdOx1 S recombinante\", \"total_dosis\": 119479}, {\"jurisdiccion_nombre\": \"Chubut\", \"vacuna_nombre\": \"Sputnik V COVID19 Instituto Gamaleya\", \"total_dosis\": 134623}, {\"jurisdiccion_nombre\": \"Chubut\", \"vacuna_nombre\": \"COVISHIELD ChAdOx1nCoV COVID 19\", \"total_dosis\": 12295}, {\"jurisdiccion_nombre\": \"Chubut\", \"vacuna_nombre\": \"Sinopharm Vacuna SARSCOV 2 inactivada\", \"total_dosis\": 94465}, {\"jurisdiccion_nombre\": \"Corrientes\", \"vacuna_nombre\": \"COVISHIELD ChAdOx1nCoV COVID 19\", \"total_dosis\": 20055}, {\"jurisdiccion_nombre\": \"Corrientes\", \"vacuna_nombre\": \"Sputnik V COVID19 Instituto Gamaleya\", \"total_dosis\": 244708}, {\"jurisdiccion_nombre\": \"Corrientes\", \"vacuna_nombre\": \"AstraZeneca ChAdOx1 S recombinante\", \"total_dosis\": 195346}, {\"jurisdiccion_nombre\": \"Corrientes\", \"vacuna_nombre\": \"Sinopharm Vacuna SARSCOV 2 inactivada\", \"total_dosis\": 174062}, {\"jurisdiccion_nombre\": \"C\\u00f3rdoba\", \"vacuna_nombre\": \"COVISHIELD ChAdOx1nCoV COVID 19\", \"total_dosis\": 44105}, {\"jurisdiccion_nombre\": \"C\\u00f3rdoba\", \"vacuna_nombre\": \"Sputnik V COVID19 Instituto Gamaleya\", \"total_dosis\": 896208}, {\"jurisdiccion_nombre\": \"C\\u00f3rdoba\", \"vacuna_nombre\": \"Sinopharm Vacuna SARSCOV 2 inactivada\", \"total_dosis\": 608013}, {\"jurisdiccion_nombre\": \"C\\u00f3rdoba\", \"vacuna_nombre\": \"AstraZeneca ChAdOx1 S recombinante\", \"total_dosis\": 796283}, {\"jurisdiccion_nombre\": \"Entre R\\u00edos\", \"vacuna_nombre\": \"AstraZeneca ChAdOx1 S recombinante\", \"total_dosis\": 270748}, {\"jurisdiccion_nombre\": \"Entre R\\u00edos\", \"vacuna_nombre\": \"COVISHIELD ChAdOx1nCoV COVID 19\", \"total_dosis\": 17376}, {\"jurisdiccion_nombre\": \"Entre R\\u00edos\", \"vacuna_nombre\": \"Sputnik V COVID19 Instituto Gamaleya\", \"total_dosis\": 295250}, {\"jurisdiccion_nombre\": \"Entre R\\u00edos\", \"vacuna_nombre\": \"Sinopharm Vacuna SARSCOV 2 inactivada\", \"total_dosis\": 209671}, {\"jurisdiccion_nombre\": \"Formosa\", \"vacuna_nombre\": \"AstraZeneca ChAdOx1 S recombinante\", \"total_dosis\": 123615}, {\"jurisdiccion_nombre\": \"Formosa\", \"vacuna_nombre\": \"COVISHIELD ChAdOx1nCoV COVID 19\", \"total_dosis\": 7330}, {\"jurisdiccion_nombre\": \"Formosa\", \"vacuna_nombre\": \"Sputnik V COVID19 Instituto Gamaleya\", \"total_dosis\": 131273}, {\"jurisdiccion_nombre\": \"Formosa\", \"vacuna_nombre\": \"Sinopharm Vacuna SARSCOV 2 inactivada\", \"total_dosis\": 98805}, {\"jurisdiccion_nombre\": \"Jujuy\", \"vacuna_nombre\": \"Sinopharm Vacuna SARSCOV 2 inactivada\", \"total_dosis\": 127076}, {\"jurisdiccion_nombre\": \"Jujuy\", \"vacuna_nombre\": \"AstraZeneca ChAdOx1 S recombinante\", \"total_dosis\": 161480}, {\"jurisdiccion_nombre\": \"Jujuy\", \"vacuna_nombre\": \"Sputnik V COVID19 Instituto Gamaleya\", \"total_dosis\": 174889}, {\"jurisdiccion_nombre\": \"Jujuy\", \"vacuna_nombre\": \"COVISHIELD ChAdOx1nCoV COVID 19\", \"total_dosis\": 14240}, {\"jurisdiccion_nombre\": \"La Pampa\", \"vacuna_nombre\": \"Sputnik V COVID19 Instituto Gamaleya\", \"total_dosis\": 92119}, {\"jurisdiccion_nombre\": \"La Pampa\", \"vacuna_nombre\": \"COVISHIELD ChAdOx1nCoV COVID 19\", \"total_dosis\": 4555}, {\"jurisdiccion_nombre\": \"La Pampa\", \"vacuna_nombre\": \"AstraZeneca ChAdOx1 S recombinante\", \"total_dosis\": 78273}, {\"jurisdiccion_nombre\": \"La Pampa\", \"vacuna_nombre\": \"Sinopharm Vacuna SARSCOV 2 inactivada\", \"total_dosis\": 80034}, {\"jurisdiccion_nombre\": \"La Rioja\", \"vacuna_nombre\": \"Sinopharm Vacuna SARSCOV 2 inactivada\", \"total_dosis\": 72464}, {\"jurisdiccion_nombre\": \"La Rioja\", \"vacuna_nombre\": \"Sputnik V COVID19 Instituto Gamaleya\", \"total_dosis\": 98227}, {\"jurisdiccion_nombre\": \"La Rioja\", \"vacuna_nombre\": \"COVISHIELD ChAdOx1nCoV COVID 19\", \"total_dosis\": 7307}, {\"jurisdiccion_nombre\": \"La Rioja\", \"vacuna_nombre\": \"AstraZeneca ChAdOx1 S recombinante\", \"total_dosis\": 76349}, {\"jurisdiccion_nombre\": \"Mendoza\", \"vacuna_nombre\": \"Sputnik V COVID19 Instituto Gamaleya\", \"total_dosis\": 475696}, {\"jurisdiccion_nombre\": \"Mendoza\", \"vacuna_nombre\": \"COVISHIELD ChAdOx1nCoV COVID 19\", \"total_dosis\": 25392}, {\"jurisdiccion_nombre\": \"Mendoza\", \"vacuna_nombre\": \"Sinopharm Vacuna SARSCOV 2 inactivada\", \"total_dosis\": 272884}, {\"jurisdiccion_nombre\": \"Mendoza\", \"vacuna_nombre\": \"AstraZeneca ChAdOx1 S recombinante\", \"total_dosis\": 403211}, {\"jurisdiccion_nombre\": \"Misiones\", \"vacuna_nombre\": \"AstraZeneca ChAdOx1 S recombinante\", \"total_dosis\": 197790}, {\"jurisdiccion_nombre\": \"Misiones\", \"vacuna_nombre\": \"COVISHIELD ChAdOx1nCoV COVID 19\", \"total_dosis\": 17196}, {\"jurisdiccion_nombre\": \"Misiones\", \"vacuna_nombre\": \"Sinopharm Vacuna SARSCOV 2 inactivada\", \"total_dosis\": 132361}, {\"jurisdiccion_nombre\": \"Misiones\", \"vacuna_nombre\": \"Sputnik V COVID19 Instituto Gamaleya\", \"total_dosis\": 229794}, {\"jurisdiccion_nombre\": \"Neuqu\\u00e9n\", \"vacuna_nombre\": \"Sputnik V COVID19 Instituto Gamaleya\", \"total_dosis\": 167760}, {\"jurisdiccion_nombre\": \"Neuqu\\u00e9n\", \"vacuna_nombre\": \"AstraZeneca ChAdOx1 S recombinante\", \"total_dosis\": 149437}, {\"jurisdiccion_nombre\": \"Neuqu\\u00e9n\", \"vacuna_nombre\": \"COVISHIELD ChAdOx1nCoV COVID 19\", \"total_dosis\": 12461}, {\"jurisdiccion_nombre\": \"Neuqu\\u00e9n\", \"vacuna_nombre\": \"Sinopharm Vacuna SARSCOV 2 inactivada\", \"total_dosis\": 131769}, {\"jurisdiccion_nombre\": \"R\\u00edo Negro\", \"vacuna_nombre\": \"COVISHIELD ChAdOx1nCoV COVID 19\", \"total_dosis\": 14001}, {\"jurisdiccion_nombre\": \"R\\u00edo Negro\", \"vacuna_nombre\": \"Sinopharm Vacuna SARSCOV 2 inactivada\", \"total_dosis\": 139148}, {\"jurisdiccion_nombre\": \"R\\u00edo Negro\", \"vacuna_nombre\": \"AstraZeneca ChAdOx1 S recombinante\", \"total_dosis\": 147879}, {\"jurisdiccion_nombre\": \"R\\u00edo Negro\", \"vacuna_nombre\": \"Sputnik V COVID19 Instituto Gamaleya\", \"total_dosis\": 178650}, {\"jurisdiccion_nombre\": \"Salta\", \"vacuna_nombre\": \"Sputnik V COVID19 Instituto Gamaleya\", \"total_dosis\": 310889}, {\"jurisdiccion_nombre\": \"Salta\", \"vacuna_nombre\": \"AstraZeneca ChAdOx1 S recombinante\", \"total_dosis\": 286994}, {\"jurisdiccion_nombre\": \"Salta\", \"vacuna_nombre\": \"Sinopharm Vacuna SARSCOV 2 inactivada\", \"total_dosis\": 156483}, {\"jurisdiccion_nombre\": \"Salta\", \"vacuna_nombre\": \"COVISHIELD ChAdOx1nCoV COVID 19\", \"total_dosis\": 17828}, {\"jurisdiccion_nombre\": \"San Juan\", \"vacuna_nombre\": \"Sputnik V COVID19 Instituto Gamaleya\", \"total_dosis\": 192433}, {\"jurisdiccion_nombre\": \"San Juan\", \"vacuna_nombre\": \"Sinopharm Vacuna SARSCOV 2 inactivada\", \"total_dosis\": 119216}, {\"jurisdiccion_nombre\": \"San Juan\", \"vacuna_nombre\": \"AstraZeneca ChAdOx1 S recombinante\", \"total_dosis\": 157485}, {\"jurisdiccion_nombre\": \"San Juan\", \"vacuna_nombre\": \"COVISHIELD ChAdOx1nCoV COVID 19\", \"total_dosis\": 8844}, {\"jurisdiccion_nombre\": \"San Luis\", \"vacuna_nombre\": \"Sinopharm Vacuna SARSCOV 2 inactivada\", \"total_dosis\": 104301}, {\"jurisdiccion_nombre\": \"San Luis\", \"vacuna_nombre\": \"AstraZeneca ChAdOx1 S recombinante\", \"total_dosis\": 116651}, {\"jurisdiccion_nombre\": \"San Luis\", \"vacuna_nombre\": \"COVISHIELD ChAdOx1nCoV COVID 19\", \"total_dosis\": 6826}, {\"jurisdiccion_nombre\": \"San Luis\", \"vacuna_nombre\": \"Sputnik V COVID19 Instituto Gamaleya\", \"total_dosis\": 128547}, {\"jurisdiccion_nombre\": \"Santa Cruz\", \"vacuna_nombre\": \"Sputnik V COVID19 Instituto Gamaleya\", \"total_dosis\": 88210}, {\"jurisdiccion_nombre\": \"Santa Cruz\", \"vacuna_nombre\": \"Sinopharm Vacuna SARSCOV 2 inactivada\", \"total_dosis\": 59463}, {\"jurisdiccion_nombre\": \"Santa Cruz\", \"vacuna_nombre\": \"COVISHIELD ChAdOx1nCoV COVID 19\", \"total_dosis\": 6606}, {\"jurisdiccion_nombre\": \"Santa Cruz\", \"vacuna_nombre\": \"AstraZeneca ChAdOx1 S recombinante\", \"total_dosis\": 48535}, {\"jurisdiccion_nombre\": \"Santa Fe\", \"vacuna_nombre\": \"Sinopharm Vacuna SARSCOV 2 inactivada\", \"total_dosis\": 565681}, {\"jurisdiccion_nombre\": \"Santa Fe\", \"vacuna_nombre\": \"AstraZeneca ChAdOx1 S recombinante\", \"total_dosis\": 770905}, {\"jurisdiccion_nombre\": \"Santa Fe\", \"vacuna_nombre\": \"COVISHIELD ChAdOx1nCoV COVID 19\", \"total_dosis\": 41273}, {\"jurisdiccion_nombre\": \"Santa Fe\", \"vacuna_nombre\": \"Sputnik V COVID19 Instituto Gamaleya\", \"total_dosis\": 849453}, {\"jurisdiccion_nombre\": \"Santiago del Estero\", \"vacuna_nombre\": \"Sputnik V COVID19 Instituto Gamaleya\", \"total_dosis\": 229311}, {\"jurisdiccion_nombre\": \"Santiago del Estero\", \"vacuna_nombre\": \"Sinopharm Vacuna SARSCOV 2 inactivada\", \"total_dosis\": 167485}, {\"jurisdiccion_nombre\": \"Santiago del Estero\", \"vacuna_nombre\": \"AstraZeneca ChAdOx1 S recombinante\", \"total_dosis\": 181107}, {\"jurisdiccion_nombre\": \"Santiago del Estero\", \"vacuna_nombre\": \"COVISHIELD ChAdOx1nCoV COVID 19\", \"total_dosis\": 12936}, {\"jurisdiccion_nombre\": \"Tierra del Fuego\", \"vacuna_nombre\": \"Sinopharm Vacuna SARSCOV 2 inactivada\", \"total_dosis\": 29642}, {\"jurisdiccion_nombre\": \"Tierra del Fuego\", \"vacuna_nombre\": \"Sputnik V COVID19 Instituto Gamaleya\", \"total_dosis\": 41742}, {\"jurisdiccion_nombre\": \"Tierra del Fuego\", \"vacuna_nombre\": \"COVISHIELD ChAdOx1nCoV COVID 19\", \"total_dosis\": 3470}, {\"jurisdiccion_nombre\": \"Tierra del Fuego\", \"vacuna_nombre\": \"AstraZeneca ChAdOx1 S recombinante\", \"total_dosis\": 34654}, {\"jurisdiccion_nombre\": \"Tucum\\u00e1n\", \"vacuna_nombre\": \"Sputnik V COVID19 Instituto Gamaleya\", \"total_dosis\": 410844}, {\"jurisdiccion_nombre\": \"Tucum\\u00e1n\", \"vacuna_nombre\": \"AstraZeneca ChAdOx1 S recombinante\", \"total_dosis\": 349962}, {\"jurisdiccion_nombre\": \"Tucum\\u00e1n\", \"vacuna_nombre\": \"COVISHIELD ChAdOx1nCoV COVID 19\", \"total_dosis\": 20594}, {\"jurisdiccion_nombre\": \"Tucum\\u00e1n\", \"vacuna_nombre\": \"Sinopharm Vacuna SARSCOV 2 inactivada\", \"total_dosis\": 245337}]}}, {\"mode\": \"vega-lite\"});\n",
       "</script>"
      ],
      "text/plain": [
       "alt.Chart(...)"
      ]
     },
     "execution_count": 245,
     "metadata": {
      "tags": []
     },
     "output_type": "execute_result"
    }
   ],
   "source": [
    "\n",
    "\n",
    "rqst = requests.get(\"http://localhost:8000/datos/provincias/vacunanombre/alldosis\")\n",
    "\n",
    "data = rqst.json()\n",
    "df = pd.DataFrame(data)\n",
    "\n",
    "alt.Chart(df).mark_bar().encode(\n",
    "    x=alt.X('sum(total_dosis)',title='Dosis Totales'),\n",
    "    y=alt.Y('jurisdiccion_nombre', title='Provincia'),\n",
    "    color=alt.Color('vacuna_nombre',title= 'Vacuna'),\n",
    "    tooltip=[alt.Tooltip('vacuna_nombre', title='Vacuna'),alt.Tooltip('sum(total_dosis)', title='Dosis Totales')]\n",
    ").properties(\n",
    "    width=1400,\n",
    "    height=800\n",
    ").configure_axis(\n",
    "    labelFontSize=15,\n",
    "    titleFontSize=15\n",
    ")"
   ]
  },
  {
   "cell_type": "code",
   "execution_count": 199,
   "metadata": {
    "id": "zs3fyUK1Jm_F"
   },
   "outputs": [],
   "source": [
    ""
   ]
  },
  {
   "cell_type": "code",
   "execution_count": 226,
   "metadata": {
    "id": "NcNBs-ht-lU3"
   },
   "outputs": [],
   "source": [
    ""
   ]
  },
  {
   "cell_type": "code",
   "execution_count": 246,
   "metadata": {
    "colab": {
     "base_uri": "https://localhost:8080/",
     "height": 565
    },
    "id": "02UEBvM6J79R",
    "outputId": "3d943032-0a73-41c0-8a62-0e461dd66fe0"
   },
   "outputs": [
    {
     "data": {
      "text/html": [
       "\n",
       "<div id=\"altair-viz-c6530fb8457941fa90927afb948ecf01\"></div>\n",
       "<script type=\"text/javascript\">\n",
       "  (function(spec, embedOpt){\n",
       "    let outputDiv = document.currentScript.previousElementSibling;\n",
       "    if (outputDiv.id !== \"altair-viz-c6530fb8457941fa90927afb948ecf01\") {\n",
       "      outputDiv = document.getElementById(\"altair-viz-c6530fb8457941fa90927afb948ecf01\");\n",
       "    }\n",
       "    const paths = {\n",
       "      \"vega\": \"https://cdn.jsdelivr.net/npm//vega@5?noext\",\n",
       "      \"vega-lib\": \"https://cdn.jsdelivr.net/npm//vega-lib?noext\",\n",
       "      \"vega-lite\": \"https://cdn.jsdelivr.net/npm//vega-lite@4.8.1?noext\",\n",
       "      \"vega-embed\": \"https://cdn.jsdelivr.net/npm//vega-embed@6?noext\",\n",
       "    };\n",
       "\n",
       "    function loadScript(lib) {\n",
       "      return new Promise(function(resolve, reject) {\n",
       "        var s = document.createElement('script');\n",
       "        s.src = paths[lib];\n",
       "        s.async = true;\n",
       "        s.onload = () => resolve(paths[lib]);\n",
       "        s.onerror = () => reject(`Error loading script: ${paths[lib]}`);\n",
       "        document.getElementsByTagName(\"head\")[0].appendChild(s);\n",
       "      });\n",
       "    }\n",
       "\n",
       "    function showError(err) {\n",
       "      outputDiv.innerHTML = `<div class=\"error\" style=\"color:red;\">${err}</div>`;\n",
       "      throw err;\n",
       "    }\n",
       "\n",
       "    function displayChart(vegaEmbed) {\n",
       "      vegaEmbed(outputDiv, spec, embedOpt)\n",
       "        .catch(err => showError(`Javascript Error: ${err.message}<br>This usually means there's a typo in your chart specification. See the javascript console for the full traceback.`));\n",
       "    }\n",
       "\n",
       "    if(typeof define === \"function\" && define.amd) {\n",
       "      requirejs.config({paths});\n",
       "      require([\"vega-embed\"], displayChart, err => showError(`Error loading script: ${err.message}`));\n",
       "    } else if (typeof vegaEmbed === \"function\") {\n",
       "      displayChart(vegaEmbed);\n",
       "    } else {\n",
       "      loadScript(\"vega\")\n",
       "        .then(() => loadScript(\"vega-lite\"))\n",
       "        .then(() => loadScript(\"vega-embed\"))\n",
       "        .catch(showError)\n",
       "        .then(() => displayChart(vegaEmbed));\n",
       "    }\n",
       "  })({\"config\": {\"view\": {\"continuousWidth\": 400, \"continuousHeight\": 300}, \"axis\": {\"labelFontSize\": 12, \"titleFontSize\": 12}}, \"data\": {\"name\": \"data-04f29870e7170ac4b9006c8b370ad8e6\"}, \"mark\": \"bar\", \"encoding\": {\"color\": {\"type\": \"quantitative\", \"field\": \"todas_las_dosis\", \"title\": \"Dosis Totales\"}, \"tooltip\": [{\"type\": \"quantitative\", \"field\": \"todas_las_dosis\", \"title\": \"Dosis Totales\"}], \"x\": {\"type\": \"quantitative\", \"field\": \"todas_las_dosis\", \"title\": \"Dosis Totales\"}, \"y\": {\"type\": \"nominal\", \"field\": \"jurisdiccion_nombre\", \"sort\": \"-x\", \"title\": \"Provincia\"}}, \"height\": 500, \"transform\": [{\"window\": [{\"op\": \"rank\", \"field\": \"todas_las_dosis\", \"as\": \"rank\"}], \"sort\": [{\"field\": \"todas_las_dosis\", \"order\": \"descending\"}]}, {\"filter\": \"(datum.rank < 16)\"}], \"width\": 1200, \"$schema\": \"https://vega.github.io/schema/vega-lite/v4.8.1.json\", \"datasets\": {\"data-04f29870e7170ac4b9006c8b370ad8e6\": [{\"jurisdiccion_nombre\": \"Buenos Aires\", \"todas_las_dosis\": 10653172}, {\"jurisdiccion_nombre\": \"C\\u00f3rdoba\", \"todas_las_dosis\": 2344609}, {\"jurisdiccion_nombre\": \"CABA\", \"todas_las_dosis\": 2335231}, {\"jurisdiccion_nombre\": \"Santa Fe\", \"todas_las_dosis\": 2227312}, {\"jurisdiccion_nombre\": \"Mendoza\", \"todas_las_dosis\": 1177183}, {\"jurisdiccion_nombre\": \"Tucum\\u00e1n\", \"todas_las_dosis\": 1026737}, {\"jurisdiccion_nombre\": \"Entre R\\u00edos\", \"todas_las_dosis\": 793045}, {\"jurisdiccion_nombre\": \"Salta\", \"todas_las_dosis\": 772194}, {\"jurisdiccion_nombre\": \"Chaco\", \"todas_las_dosis\": 650621}, {\"jurisdiccion_nombre\": \"Corrientes\", \"todas_las_dosis\": 634171}, {\"jurisdiccion_nombre\": \"Santiago del Estero\", \"todas_las_dosis\": 590839}, {\"jurisdiccion_nombre\": \"Misiones\", \"todas_las_dosis\": 577141}, {\"jurisdiccion_nombre\": \"R\\u00edo Negro\", \"todas_las_dosis\": 479678}, {\"jurisdiccion_nombre\": \"San Juan\", \"todas_las_dosis\": 477978}, {\"jurisdiccion_nombre\": \"Jujuy\", \"todas_las_dosis\": 477685}, {\"jurisdiccion_nombre\": \"Neuqu\\u00e9n\", \"todas_las_dosis\": 461427}, {\"jurisdiccion_nombre\": \"Formosa\", \"todas_las_dosis\": 361023}, {\"jurisdiccion_nombre\": \"Chubut\", \"todas_las_dosis\": 360862}, {\"jurisdiccion_nombre\": \"San Luis\", \"todas_las_dosis\": 356325}, {\"jurisdiccion_nombre\": \"La Pampa\", \"todas_las_dosis\": 254981}, {\"jurisdiccion_nombre\": \"La Rioja\", \"todas_las_dosis\": 254347}, {\"jurisdiccion_nombre\": \"Catamarca\", \"todas_las_dosis\": 246345}, {\"jurisdiccion_nombre\": \"Santa Cruz\", \"todas_las_dosis\": 202814}, {\"jurisdiccion_nombre\": \"Tierra del Fuego\", \"todas_las_dosis\": 109508}]}}, {\"mode\": \"vega-lite\"});\n",
       "</script>"
      ],
      "text/plain": [
       "alt.Chart(...)"
      ]
     },
     "execution_count": 246,
     "metadata": {
      "tags": []
     },
     "output_type": "execute_result"
    }
   ],
   "source": [
    "\n",
    "rqst = requests.get(\"http://localhost:8000/datos/provincias/alldosis\")\n",
    "data = rqst.json()\n",
    "df = pd.DataFrame(data)\n",
    "\n",
    "\n",
    "alt.Chart(\n",
    "    df,\n",
    ").mark_bar().encode(\n",
    "    x=alt.X('todas_las_dosis:Q',title='Dosis Totales'),\n",
    "    y=alt.Y('jurisdiccion_nombre:N', sort='-x',title='Provincia'),\n",
    "    color=alt.Color('todas_las_dosis:Q',title='Dosis Totales'),\n",
    "    tooltip=[alt.Tooltip('todas_las_dosis', title='Dosis Totales')]\n",
    "\n",
    ").transform_window(\n",
    "    rank='rank(todas_las_dosis)',\n",
    "    sort=[alt.SortField('todas_las_dosis', order='descending')]\n",
    ").transform_filter(\n",
    "    (alt.datum.rank < 16)\n",
    ").properties(\n",
    "    width=1200,\n",
    "    height=500\n",
    ").configure_axis(\n",
    "    labelFontSize=12,\n",
    "    titleFontSize=12\n",
    ")"
   ]
  },
  {
   "cell_type": "code",
   "execution_count": null,
   "metadata": {
    "id": "fnNpAQw4Wlms"
   },
   "outputs": [],
   "source": [
    ""
   ]
  },
  {
   "cell_type": "code",
   "execution_count": 261,
   "metadata": {
    "colab": {
     "base_uri": "https://localhost:8080/",
     "height": 846
    },
    "id": "nRTBn_J9GTe5",
    "outputId": "649ec8d4-bf37-4556-afad-c0674b2222f3"
   },
   "outputs": [
    {
     "data": {
      "image/png": "[encoded data removed]",
      "text/plain": [
       "<Figure size 2160x1080 with 1 Axes>"
      ]
     },
     "metadata": {
      "needs_background": "light",
      "tags": []
     },
     "output_type": "display_data"
    }
   ],
   "source": [
    "\n",
    "rqst = requests.get(\"http://localhost:8000/datos/provincias/alldosis\")\n",
    "data = rqst.json()\n",
    "df = pd.DataFrame(data)\n",
    "\n",
    "norm = mat.colors.Normalize(vmin=min(df['todas_las_dosis'].values.flatten()), vmax=max(df['todas_las_dosis'].values.flatten()))\n",
    "colors = [mat.cm.Blues(norm(value)) for value in df['todas_las_dosis'].values.flatten()]\n",
    "\n",
    "f = plt.figure()\n",
    "f.set_figwidth(30)\n",
    "f.set_figheight(15)\n",
    "\n",
    "squarify.plot(sizes=df['todas_las_dosis'].values.flatten(), label=df['jurisdiccion_nombre'].values.flatten(), color=colors, alpha=.9 )\n",
    "plt.axis('off')\n",
    "plt.show()\n",
    "\n",
    "\n",
    "\n",
    "\n",
    "\n"
   ]
  }
 ],
 "metadata": {
  "colab": {
   "collapsed_sections": [],
   "name": "visualizations.ipynb",
   "provenance": []
  },
  "kernelspec": {
   "display_name": "Python 3",
   "name": "python3"
  },
  "language_info": {
   "name": "python"
  }
 },
 "nbformat": 4,
 "nbformat_minor": 0
}
